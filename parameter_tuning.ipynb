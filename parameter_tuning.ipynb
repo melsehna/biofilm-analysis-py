{
 "cells": [
  {
   "cell_type": "code",
   "execution_count": null,
   "id": "72fc473c",
   "metadata": {},
   "outputs": [],
   "source": [
    "import tifffile\n",
    "import numpy as np\n",
    "import matplotlib.pyplot as plt\n",
    "from ipywidgets import interact, IntSlider, FloatSlider, Dropdown\n",
    "\n",
    "from biofilm_analysis.preprocess import normalize_local_contrast\n",
    "from biofilm_analysis.segmentation import compute_mask\n",
    "from biofilm_analysis.io_utils import load_tif_stack\n",
    "\n",
    "\n",
    "\n"
   ]
  },
  {
   "cell_type": "code",
   "execution_count": null,
   "id": "a2616267",
   "metadata": {},
   "outputs": [],
   "source": [
    "from pathlib import Path\n",
    "from glob import glob\n",
    "\n",
    "tif_files = sorted(glob('example_data/*.tif'))\n",
    "file_dropdown = Dropdown(options=tif_files, description='TIF:')\n",
    "\n",
    "def load_stack(path):\n",
    "    stack = tifffile.imread(path)\n",
    "    if stack.shape[0] < stack.shape[-1]:\n",
    "        stack = np.transpose(stack, (1, 2, 0))\n",
    "    return stack\n",
    "\n",
    "stack = load_stack(tif_files[0])\n",
    "print(f'Loaded stack: {stack.shape}')"
   ]
  },
  {
   "cell_type": "code",
   "execution_count": null,
   "id": "60ff08f0",
   "metadata": {},
   "outputs": [],
   "source": [
    "@interact(\n",
    "    filename=file_dropdown,\n",
    "    frame=IntSlider(min=0, max=stack.shape[2]-1, step=1, value=0),\n",
    "    block=IntSlider(min=21, max=201, step=10, value=101),\n",
    "    sigma=FloatSlider(min=0.5, max=5, step=0.5, value=2),\n",
    "    thresh=FloatSlider(min=0.0, max=0.1, step=0.001, value=0.04),\n",
    ")\n",
    "def tune(filename, frame, block, sigma, thresh):\n",
    "    stack = load_stack(filename)\n",
    "    img = stack[..., frame]\n",
    "    norm = normalize_local_contrast(img, block)\n",
    "    from scipy.ndimage import gaussian_filter\n",
    "    blurred = gaussian_filter(norm, sigma=sigma)\n",
    "    mask = blurred > thresh\n",
    "\n",
    "    overlay = np.stack([blurred]*3, axis=-1)\n",
    "    overlay[mask] = [0, 1, 1]  # cyan\n",
    "\n",
    "    fig, axs = plt.subplots(1, 3, figsize=(12, 4))\n",
    "    axs[0].imshow(img, cmap='gray')\n",
    "    axs[0].set_title('Original')\n",
    "    axs[1].imshow(blurred, cmap='gray')\n",
    "    axs[1].set_title('Normalized + Blurred')\n",
    "    axs[2].imshow(overlay)\n",
    "    axs[2].set_title('Overlay')\n",
    "    for ax in axs: ax.axis('off')\n",
    "    plt.tight_layout()\n",
    "    plt.show()\n"
   ]
  }
 ],
 "metadata": {
  "language_info": {
   "name": "python"
  }
 },
 "nbformat": 4,
 "nbformat_minor": 5
}
